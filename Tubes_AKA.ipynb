{
  "cells": [
    {
      "cell_type": "code",
      "execution_count": null,
      "metadata": {
        "colab": {
          "base_uri": "https://localhost:8080/"
        },
        "id": "QzaX_D29J9uF",
        "outputId": "e3204968-071e-4a05-fd63-62033f6d26ad"
      },
      "outputs": [],
      "source": [
        "import math\n",
        "\n",
        "%pip install ipython-autotime\n",
        "%load_ext autotime"
      ]
    },
    {
      "cell_type": "code",
      "execution_count": null,
      "metadata": {
        "colab": {
          "base_uri": "https://localhost:8080/"
        },
        "id": "oRKLj0UQnTfE",
        "outputId": "1dc5f2b6-3be2-476c-aa0f-9dab1659405d"
      },
      "outputs": [],
      "source": [
        "def maxIterative(A, n):\n",
        "  m = A[0]\n",
        "  i = 1\n",
        "  while i<n :\n",
        "    if A[i] > m :\n",
        "      m = A[i]\n",
        "    i = i+1\n",
        "  return m\n",
        "\n",
        "def maxRecursive(A, n):\n",
        "  if n<=1 :\n",
        "    return A[0]\n",
        "  else :\n",
        "    return max(maxRecursive(A, n-1),A[n-1])\n"
      ]
    },
    {
      "cell_type": "code",
      "execution_count": null,
      "metadata": {
        "colab": {
          "base_uri": "https://localhost:8080/"
        },
        "id": "ctMqfSTLoh42",
        "outputId": "a89c0e24-5cce-4809-86e0-6e93b611132a"
      },
      "outputs": [],
      "source": [
        "A = [1, 20, 4, 13, 5]\n",
        "n = len(A)"
      ]
    },
    {
      "cell_type": "code",
      "execution_count": null,
      "metadata": {
        "colab": {
          "base_uri": "https://localhost:8080/"
        },
        "id": "O4zOidjrtYx2",
        "outputId": "acb7fb30-5123-4e85-80b8-968d2c523f95"
      },
      "outputs": [],
      "source": [
        "print(\"Input Size:\", n)\n",
        "print(\"Iterative:\", maxIterative(A, n))"
      ]
    },
    {
      "cell_type": "code",
      "execution_count": null,
      "metadata": {
        "colab": {
          "base_uri": "https://localhost:8080/"
        },
        "id": "FZMkF4RFN6OX",
        "outputId": "68824bc2-9e3c-4a60-f6ef-6eb157c34662"
      },
      "outputs": [],
      "source": [
        "print(\"Input Size:\", n)\n",
        "print(\"Recursive:\", maxRecursive(A, n))"
      ]
    },
    {
      "cell_type": "code",
      "execution_count": null,
      "metadata": {
        "colab": {
          "base_uri": "https://localhost:8080/"
        },
        "id": "jSkA_HDGNvco",
        "outputId": "fd5754ad-e192-4c4f-853a-5043da34f27e"
      },
      "outputs": [],
      "source": [
        "A = [1, 176, 190, 216, 323, 450, 486, 683, 897, 910]\n",
        "n = len(A)"
      ]
    },
    {
      "cell_type": "code",
      "execution_count": null,
      "metadata": {
        "colab": {
          "base_uri": "https://localhost:8080/"
        },
        "id": "yMbQM4uWlprJ",
        "outputId": "e28c4051-14af-4946-df77-7d9a3e3322ab"
      },
      "outputs": [],
      "source": [
        "print(\"Input Size:\", n)\n",
        "print(\"Iterative:\", maxIterative(A, n))"
      ]
    },
    {
      "cell_type": "code",
      "execution_count": null,
      "metadata": {
        "colab": {
          "base_uri": "https://localhost:8080/"
        },
        "id": "9ZTeRFgimRl8",
        "outputId": "530f9f21-c89c-4b2e-fad2-4784bf736e6c"
      },
      "outputs": [],
      "source": [
        "print(\"Input Size:\", n)\n",
        "print(\"Recursive:\", maxRecursive(A, n))"
      ]
    },
    {
      "cell_type": "code",
      "execution_count": null,
      "metadata": {
        "colab": {
          "base_uri": "https://localhost:8080/"
        },
        "id": "Krq7uIZHolI8",
        "outputId": "e4fe4e04-07f6-45a4-8269-02e831461053"
      },
      "outputs": [],
      "source": [
        "A = [128, 137, 162, 178, 219, 286, 317, 330, 367, 378, 418, 512, 562, 625, 632, 661, 684, 889, 898, 941]\n",
        "n = len(A)"
      ]
    },
    {
      "cell_type": "code",
      "execution_count": null,
      "metadata": {
        "colab": {
          "base_uri": "https://localhost:8080/"
        },
        "id": "O3j75vrvmdl9",
        "outputId": "c03df0ff-c6ac-4bac-8e03-4f49c16de3bf"
      },
      "outputs": [],
      "source": [
        "print(\"Input Size:\", n)\n",
        "print(\"Iterative:\", maxIterative(A, n))"
      ]
    },
    {
      "cell_type": "code",
      "execution_count": null,
      "metadata": {
        "colab": {
          "base_uri": "https://localhost:8080/"
        },
        "id": "5fbnrAeWnh64",
        "outputId": "1a5e7ea0-bb72-4e83-e743-09db1d58664d"
      },
      "outputs": [],
      "source": [
        "print(\"Input Size:\", n)\n",
        "print(\"Recursive:\", maxRecursive(A, n))"
      ]
    },
    {
      "cell_type": "code",
      "execution_count": null,
      "metadata": {
        "colab": {
          "base_uri": "https://localhost:8080/"
        },
        "id": "o6pXvUWMq6VT",
        "outputId": "12b32f64-fb2e-4871-971c-88b1531b4d43"
      },
      "outputs": [],
      "source": [
        "A = [7, 42, 70, 126, 172, 204, 228, 234, 236, 253, 274, 285, 289, 290, 295, 306, 341, 362, 368, 403, 412, 426, 428, 445, 446, 457, 458, 467, 506, 548, 560, 636, 686, 698, 705, 715, 726, 756, 782, 795, 797, 803, 863, 878, 896, 905, 920, 945, 958, 999]\n",
        "n = len(A)"
      ]
    },
    {
      "cell_type": "code",
      "execution_count": null,
      "metadata": {
        "colab": {
          "base_uri": "https://localhost:8080/"
        },
        "id": "LrcfltIurDfK",
        "outputId": "9b54b6ca-375e-47cf-f3ee-5547ed61107b"
      },
      "outputs": [],
      "source": [
        "print(\"Input Size:\", n)\n",
        "print(\"Iterative:\", maxIterative(A, n))"
      ]
    },
    {
      "cell_type": "code",
      "execution_count": null,
      "metadata": {
        "colab": {
          "base_uri": "https://localhost:8080/"
        },
        "id": "M38IYKn-rIfg",
        "outputId": "aad9f28d-8bbc-4ddf-840a-dd5e6c35133c"
      },
      "outputs": [],
      "source": [
        "print(\"Input Size:\", n)\n",
        "print(\"Recursive:\", maxRecursive(A, n))"
      ]
    },
    {
      "cell_type": "code",
      "execution_count": null,
      "metadata": {
        "colab": {
          "base_uri": "https://localhost:8080/"
        },
        "id": "gTErr6ggsd_i",
        "outputId": "3b8bd4d9-33ee-468b-f773-094c27c7fa5d"
      },
      "outputs": [],
      "source": [
        "A = [8, 12, 25, 41, 63, 64, 72, 73, 76, 77, 85, 95, 99, 105, 108, 133, 141, 146, 159, 160, 176, 195, 202, 211, 248, 254, 256, 261, 266, 277, 278, 280, 293, 298, 311, 312, 332, 335, 338, 356, 372, 383, 392, 393, 406, 419, 432, 434, 437, 439, 443, 456, 472, 481, 485, 492, 502, 504, 530, 532, 541, 551, 555, 561, 568, 580, 583, 587, 626, 642, 646, 651, 652, 654, 657, 661, 677, 689, 696, 736, 751, 773, 790, 801, 821, 836, 848, 849, 863, 864, 890, 893, 907, 912, 915, 923, 925, 949, 986, 989]\n",
        "n = len(A)"
      ]
    },
    {
      "cell_type": "code",
      "execution_count": null,
      "metadata": {
        "colab": {
          "base_uri": "https://localhost:8080/"
        },
        "id": "sKxfr8rrsmCD",
        "outputId": "7bb5b894-82c7-4fe6-9411-20703de1e3b3"
      },
      "outputs": [],
      "source": [
        "print(\"Input Size:\", n)\n",
        "print(\"Iterative:\", maxIterative(A, n))"
      ]
    },
    {
      "cell_type": "code",
      "execution_count": null,
      "metadata": {
        "colab": {
          "base_uri": "https://localhost:8080/"
        },
        "id": "CxlNSnQ5sndn",
        "outputId": "9ba5173b-a746-462b-ff1b-01c222307cc1"
      },
      "outputs": [],
      "source": [
        "print(\"Input Size:\", n)\n",
        "print(\"Recursive:\", maxRecursive(A, n))"
      ]
    }
  ],
  "metadata": {
    "colab": {
      "provenance": []
    },
    "kernelspec": {
      "display_name": "Python 3",
      "language": "python",
      "name": "python3"
    },
    "language_info": {
      "name": "python",
      "version": "3.10.2 (tags/v3.10.2:a58ebcc, Jan 17 2022, 14:12:15) [MSC v.1929 64 bit (AMD64)]"
    },
    "vscode": {
      "interpreter": {
        "hash": "26de051ba29f2982a8de78e945f0abaf191376122a1563185a90213a26c5da77"
      }
    }
  },
  "nbformat": 4,
  "nbformat_minor": 0
}
